{
 "cells": [
  {
   "cell_type": "code",
   "execution_count": null,
   "metadata": {},
   "outputs": [],
   "source": [
    "# MAGIC %md \n",
    "# MAGIC ### Setup Phase\n",
    "# MAGIC ###### Import libraries and initialize notebook parameters"
   ]
  },
  {
   "cell_type": "code",
   "execution_count": null,
   "metadata": {},
   "outputs": [],
   "source": [
    "import itertools\n",
    "from context import (get_logger,read_raw_data,df_clean,df_col_rename,df_col_add_year_month_day,df_col_compute_trip_time,\n",
    "                     df_col_compute_trip_type,df_col_add_unchanged,df_drop_duplicate_based_on_row_num,get_partition_list,\n",
    "                     create_empty_table,get_update_condition,get_merge_set,get_merge_condition,merge_target_delta_table,timed)"
   ]
  },
  {
   "cell_type": "code",
   "execution_count": null,
   "metadata": {},
   "outputs": [],
   "source": [
    "dbutils.widgets.text('Month', '2019-12', 'Process Month (YYYY-MM)')\n",
    "Month = dbutils.widgets.get('Month')\n",
    "\n",
    "dbutils.widgets.text('debug', 'true', ['true','false'])\n",
    "debug = dbutils.widgets.get('debug')\n",
    "\n",
    "root = '/mnt/main/landingzone/taxiservice/transactionaldata/'\n",
    "logger = get_logger(\n",
    "    spark, name='TaxiLogger', debug=f'{debug}'\n",
    ")"
   ]
  },
  {
   "cell_type": "code",
   "execution_count": null,
   "metadata": {},
   "outputs": [],
   "source": [
    "# MAGIC %md \n",
    "# MAGIC ### Extract Phase\n",
    "# MAGIC ###### Extract data from source files"
   ]
  },
  {
   "cell_type": "code",
   "execution_count": null,
   "metadata": {},
   "outputs": [],
   "source": [
    "@timed\n",
    "def extract():\n",
    "    \n",
    "    logger.info(\"Extracting Green/yellow Taxi data ...\")\n",
    "\n",
    "    hdr, csv_sep, infer = 'true', ',', 'true'\n",
    "    csv_locs = [f'{root}/green/green_tripdata_{Month}.csv.gz',\n",
    "                f'{root}/yellow/yellow_tripdata_{Month}.csv.gz']\n",
    "    \n",
    "    cols=[['VendorID','passenger_count','trip_distance','lpep_pickup_datetime',\n",
    "           'lpep_dropoff_datetime','PUlocationID','DOlocationID','RatecodeID',\n",
    "           'total_amount','payment_type'],\n",
    "          ['VendorID','passenger_count','trip_distance','tpep_pickup_datetime',\n",
    "           'tpep_dropoff_datetime','PUlocationID','DOlocationID','RatecodeID',\n",
    "           'total_amount','payment_type']\n",
    "         ]\n",
    "\n",
    "    TaxiTripDataDF = list(\n",
    "        map(\n",
    "            read_raw_data,\n",
    "            itertools.repeat(spark),\n",
    "            csv_locs,\n",
    "            itertools.repeat(hdr),\n",
    "            itertools.repeat(csv_sep),\n",
    "            itertools.repeat(infer),\n",
    "            cols,\n",
    "        )\n",
    "    )\n",
    "    greenTaxiTripDataDF, yellowTaxiTripDataDF = TaxiTripDataDF[0], TaxiTripDataDF[1]\n",
    "\n",
    "    return greenTaxiTripDataDF, yellowTaxiTripDataDF"
   ]
  },
  {
   "cell_type": "code",
   "execution_count": null,
   "metadata": {},
   "outputs": [],
   "source": [
    "# MAGIC %md \n",
    "# MAGIC ### Transform Phase\n",
    "# MAGIC ###### Apply transformation"
   ]
  },
  {
   "cell_type": "code",
   "execution_count": null,
   "metadata": {},
   "outputs": [],
   "source": [
    "@timed\n",
    "def transform(greenTaxiTripDataDF,yellowTaxiTripDataDF):\n",
    "\n",
    "    logger.info(\"Transforming Green/Yellow Taxi data ...\")\n",
    "    \n",
    "    logger.info(\"-->Rename yellow taxi columns: tpep_pickup_datetime/tpep_dropoff_datetime\")\n",
    "    yellowTaxiTripDataDF = df_col_rename(df=yellowTaxiTripDataDF, torename=['tpep_pickup_datetime','tpep_dropoff_datetime'], replacewith=['lpep_pickup_datetime','lpep_dropoff_datetime'])\n",
    "\n",
    "    logger.info(\"-->Add column TripMode=Green/Yellow to yellow/green taxi data\")\n",
    "    greenTaxiTripDataDF = df_col_add_unchanged(df=greenTaxiTripDataDF, toadd=['TripMode'], withvalue=['Green'])\n",
    "    yellowTaxiTripDataDF = df_col_add_unchanged(df=yellowTaxiTripDataDF, toadd=['TripMode'], withvalue=['Yellow'])\n",
    "\n",
    "    logger.info(\"-->Union of Yellow/Green Taxi data\")    \n",
    "    taxidata = greenTaxiTripDataDF.union(yellowTaxiTripDataDF)\n",
    "\n",
    "    logger.info(\"-->Rename taxi data columns\")\n",
    "    torename = ['passenger_count', 'trip_distance','lpep_pickup_datetime','lpep_dropoff_datetime','PUlocationID','DOlocationID','total_amount','payment_type']\n",
    "    replacewith = ['PassengerCount','TripDistance','PickupTime','DropTime','PickupLocationId','DropLocationId','TotalAmount','PaymentType']\n",
    "    taxidata = df_col_rename(df=taxidata, torename=torename, replacewith=replacewith)\n",
    "\n",
    "    logger.info(\"-->Filter and clean Taxi data\")  \n",
    "    taxidata = df_clean(df=taxidata, filtercond='PassengerCount > 0 and TripDistance > 0.0', todropna=['PickupLocationId', 'PickupLocationId'], tofillna={'PaymentType': 5,'RatecodeID': 1})\n",
    "    \n",
    "    logger.info(\"-->Add year month day columns\")  \n",
    "    taxidata = df_col_add_year_month_day(df=taxidata, basedon='PickupTime', outputcolprefix='Trip')\n",
    "    \n",
    "    logger.info(\"-->Compute new column: TripTimeInMinutes\")  \n",
    "    taxidata = df_col_compute_trip_time(df=taxidata, outputcolname='TripTimeInMinutes')\n",
    "\n",
    "    logger.info(\"-->Compute new column: TripType\")  \n",
    "    taxidata = df_col_compute_trip_type(df=taxidata, outputcolname='TripType')\n",
    "    \n",
    "    logger.info(\"-->Drop duplication using row number\") \n",
    "    partitionby= ['VendorID','PassengerCount','PickupTime','DropTime','PickupLocationId','DropLocationId','PaymentType','TripType','TripMode']\n",
    "    taxidata = df_drop_duplicate_based_on_row_num(df=taxidata, partitionby=partitionby, orderby=['PickupTime'], asc='false')\n",
    "   \n",
    "    logger.info(\"-->Cache Taxi data\")    \n",
    "    taxidata.cache()\n",
    "    taxidata.count()\n",
    "    \n",
    "    logger.info(\"-->Create sql table if not exist\")    \n",
    "    create_empty_table(spark, df=taxidata, dbname='default', tablename='taxidata', tablepath='/mnt/main/lab/tables/taxidata', identitycol='TaxiDataId')\n",
    "\n",
    "    return taxidata"
   ]
  },
  {
   "cell_type": "code",
   "execution_count": null,
   "metadata": {},
   "outputs": [],
   "source": [
    "# MAGIC %md \n",
    "# MAGIC ### Load Phase\n",
    "# MAGIC ###### Merge Data into destination table"
   ]
  },
  {
   "cell_type": "code",
   "execution_count": null,
   "metadata": {},
   "outputs": [],
   "source": [
    "@timed\n",
    "def load(taxidata):\n",
    "    \n",
    "    logger.info(\"Loading Taxi data ...\")\n",
    "    \n",
    "    logger.info(\"-->Get the list of partitions to merge\")\n",
    "    partitions = get_partition_list(df=taxidata, partitioncol='TripYear')\n",
    "   \n",
    "    logger.info(\"-->Merge data into dest delta table\")\n",
    "    merge_condition_cols = ['VendorID','PassengerCount','TripYear','PickupTime','DropTime',\n",
    "                            'PickupLocationId','DropLocationId','TripType','TripMode','PaymentType']\n",
    "    mergecondition = f'src.TripYear in ({partitions}) and '+ get_merge_condition(srccols=merge_condition_cols,trgcols=merge_condition_cols)\n",
    "\n",
    "    updatecondition= get_update_condition(df=taxidata, identitycol='TaxiDataId')\n",
    "    mergeset = get_merge_set(df=taxidata, identitycol='TaxiDataId')\n",
    "\n",
    "    merge_target_delta_table(spark,df=taxidata, mergecondition=mergecondition, updatecondition=updatecondition, mergeset=mergeset, targetpath='/mnt/main/lab/tables/taxidata')"
   ]
  },
  {
   "cell_type": "code",
   "execution_count": null,
   "metadata": {},
   "outputs": [],
   "source": [
    "# MAGIC %md \n",
    "# MAGIC ### Workflow Phase\n",
    "# MAGIC ###### Call extract, transform and load function"
   ]
  },
  {
   "cell_type": "code",
   "execution_count": null,
   "metadata": {},
   "outputs": [],
   "source": [
    "green,yellow = extract()\n",
    "trip = transform(green,yellow)\n",
    "saved = load(trip)"
   ]
  }
 ],
 "metadata": {
  "language_info": {
   "codemirror_mode": {
    "name": "ipython",
    "version": 3
   },
   "file_extension": ".py",
   "mimetype": "text/x-python",
   "name": "python",
   "nbconvert_exporter": "python",
   "pygments_lexer": "ipython3",
   "version": 3
  },
  "orig_nbformat": 4
 },
 "nbformat": 4,
 "nbformat_minor": 2
}
